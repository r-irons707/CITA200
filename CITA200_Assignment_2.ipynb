{
 "cells": [
  {
   "cell_type": "markdown",
   "id": "e38cbc62",
   "metadata": {},
   "source": [
    "## Part 1"
   ]
  },
  {
   "cell_type": "code",
   "execution_count": 4,
   "id": "56e3333c",
   "metadata": {},
   "outputs": [
    {
     "name": "stdout",
     "output_type": "stream",
     "text": [
      "447\n"
     ]
    }
   ],
   "source": [
    "def f(x):\n",
    "    '''Initial function definition'''\n",
    "    return x**3 - x**2 - 1\n",
    "def df(x):\n",
    "    '''Derivative of initial function'''\n",
    "    return 3*x**2 - 2*x\n",
    "\n",
    "print(f(8))"
   ]
  },
  {
   "cell_type": "markdown",
   "id": "b663bd56",
   "metadata": {},
   "source": [
    "## Part 2"
   ]
  },
  {
   "cell_type": "code",
   "execution_count": 5,
   "id": "1cf0768a",
   "metadata": {},
   "outputs": [],
   "source": [
    "import numpy as np\n",
    "x0 = 1 #initial guess of root for the given function\n",
    "x_n = x0 - f(x0)/df(x0)\n",
    "x_n1 = np.zeros(30)\n",
    "\n",
    "def newton(f, df, x0, epsilon=1e-6, max_iter=30):\n",
    "    '''Given function which performs Newtonian iteration on given functions f with df'''\n",
    "    #for i in range(max_iter):\n",
    "        #x_n = \n",
    "        #x_n1 = x_n - f(x) / df(x)"
   ]
  }
 ],
 "metadata": {
  "kernelspec": {
   "display_name": "Python 3 (ipykernel)",
   "language": "python",
   "name": "python3"
  },
  "language_info": {
   "codemirror_mode": {
    "name": "ipython",
    "version": 3
   },
   "file_extension": ".py",
   "mimetype": "text/x-python",
   "name": "python",
   "nbconvert_exporter": "python",
   "pygments_lexer": "ipython3",
   "version": "3.9.12"
  }
 },
 "nbformat": 4,
 "nbformat_minor": 5
}
